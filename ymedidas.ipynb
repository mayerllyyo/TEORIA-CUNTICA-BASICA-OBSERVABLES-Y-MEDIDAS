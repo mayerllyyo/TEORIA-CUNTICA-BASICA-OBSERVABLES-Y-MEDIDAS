{
 "cells": [
  {
   "cell_type": "markdown",
   "id": "d5faf8cd-0059-4cf3-b703-7cb55e91b664",
   "metadata": {},
   "source": [
    "# TEORIA CUANTICA BASICA OBSERVABLES Y MEDIDAS\n",
    "## A) PRIMER SISTEMA CUÁNTICO DESCRITO EN LA SECCIÓN 4.1."
   ]
  },
  {
   "cell_type": "markdown",
   "id": "ab51e183-c20c-4abc-88ad-fc949aaf6868",
   "metadata": {},
   "source": [
    "### El sistema consiste en una partícula confinada a un conjunto discreto de posiciones en una línea. El simulador debe permitir especificar el número de posiciones y un vector ket de estado asignando las amplitudes.\n",
    "\n",
    "#### 1. El sistema debe calcular la probabilidad de encontrarlo en una posición en particular."
   ]
  },
  {
   "cell_type": "code",
   "execution_count": 36,
   "id": "d1310395-04cd-4b88-bcd3-06d3d28c8fee",
   "metadata": {},
   "outputs": [
    {
     "name": "stdout",
     "output_type": "stream",
     "text": [
      "La probabilidad de encontrar la partícula en la posición 2 es: 0.05263157894736841\n"
     ]
    }
   ],
   "source": [
    "import numpy as np\n",
    "\n",
    "# Definimos una función para calcular la probabilidad de encontrar una partícula en una posición específica.\n",
    "def probabilidad_pos(v, p):\n",
    "    # Calculamos la norma al cuadrado del vector v\n",
    "    norma = np.linalg.norm(v) ** 2\n",
    "    # Verificamos si la posición especificada está dentro del rango\n",
    "    if p < 0 or p >= len(v):\n",
    "        raise ValueError(\"La posición especificada está fuera del rango.\")\n",
    "    # Calculamos la probabilidad utilizando la amplitud al cuadrado del elemento en la posición p\n",
    "    c = (abs(v[p]))**2\n",
    "    return c/norma\n",
    "\n",
    "# Ejemplo de cálculo de probabilidad de encontrar una partícula en una posición específica\n",
    "vector = [-3-1j, -2j, 1j, 2]\n",
    "posicion = 2\n",
    "# Llamamos a la función probabilidad_pos para obtener la probabilidad\n",
    "probabilidad = probabilidad_pos(vector, posicion)\n",
    "# Imprimimos el resultado de la probabilidad\n",
    "print(f\"La probabilidad de encontrar la partícula en la posición {posicion} es: {probabilidad}\")\n"
   ]
  },
  {
   "cell_type": "markdown",
   "id": "bac703c6-bc53-4941-8d91-2001c259a8d2",
   "metadata": {},
   "source": [
    "#### 2. El sistema si se le da otro vector Ket debe buscar la probabilidad de transitar del primer vector al segundo."
   ]
  },
  {
   "cell_type": "code",
   "execution_count": 27,
   "id": "e98f05c2-1604-446c-b9dc-97e906be5c0c",
   "metadata": {},
   "outputs": [
    {
     "name": "stdout",
     "output_type": "stream",
     "text": [
      "Resultado de la función probabilidad_transitar: -1.0000000000000002j\n"
     ]
    }
   ],
   "source": [
    "# Definimos una función para calcular la probabilidad de transición entre dos estados\n",
    "def probabilidad_transitar(v, k):\n",
    "    # Calculamos las normas de los vectores v y k\n",
    "    nv = np.linalg.norm(v)\n",
    "    nk = np.linalg.norm(k)\n",
    "    \n",
    "    for i in range(len(v)):\n",
    "    # Normalizamos los vectores dividiendo cada componente por su respectiva norma\n",
    "        v[i] = v[i] / nv\n",
    "        k[i] = k[i] / nk\n",
    "\n",
    "    prod_in = 0\n",
    "    for i in range(len(v)):\n",
    "        # Calculamos el producto interior \n",
    "        prod_in+= np.conj(k[i])*v[i]\n",
    "    \n",
    "    # Calculamos la probabilidad de transición\n",
    "    prod_v = nv * nk\n",
    "    prob = prod_in / prod_v\n",
    "    return prob\n",
    "# Ejemplo de cálculo de probabilidad de transición entre dos estados\n",
    "prob_trans = probabilidad_transitar([np.sqrt(2)/2, 1j*np.sqrt(2)/2],[1j*np.sqrt(2)/2, -np.sqrt(2)/2])\n",
    "print(\"Resultado de la función probabilidad_transitar:\", prob_trans)\n"
   ]
  },
  {
   "cell_type": "markdown",
   "id": "6ada7563-a211-451f-bb58-14e3a2746dff",
   "metadata": {},
   "source": [
    "## B) RETOS DE PROGRAMACIÓN DEL CAPÍTULO 4.\n",
    "#### 1. Amplitud de transición. El sistema puede recibir dos vectores y calcular la probabilidad de transitar de el uno al otro después de hacer la observación"
   ]
  },
  {
   "cell_type": "markdown",
   "id": "aaa331fc-978d-4377-be6a-558a2cead2e3",
   "metadata": {},
   "source": [
    "#### 2. Ahora con una matriz que describa un observable y un vector ket, el sistema revisa que la matriz sea hermitiana, y si lo es, calcula la media y la varianza del observable en el estado dado."
   ]
  },
  {
   "cell_type": "markdown",
   "id": "aa736397-6852-4612-a002-a18056bb2736",
   "metadata": {},
   "source": [
    "#### 3. El sistema calcula los valores propios del observable y la probabilidad de que el sistema transite a alguno de los vectores propios después de la observación."
   ]
  },
  {
   "cell_type": "markdown",
   "id": "15808928-6f5f-4fee-9e49-f215484dcf23",
   "metadata": {},
   "source": [
    "#### 4. Se considera la dinámica del sistema. Ahora con una serie de matrices Un el sistema calcula el estado final a partir de un estado inicial."
   ]
  },
  {
   "cell_type": "markdown",
   "id": "47b999be-15f6-4b0b-98d3-7c1c55d67bd7",
   "metadata": {},
   "source": [
    "## C) REALICE LOS SIGUIENTES PROBLEMAS E INCLUYALOS COMO EJEMPLOS\n",
    "#### Modele en su librería los problemas\n",
    "#### 4.3.1\n",
    "#### 4.3.2\n",
    "#### 4.4.1\n",
    "#### 4.4.2\n",
    "#### Desarrolle e incluya en el Github una discusión de los ejercicios 4.5.2 y 4.5.3"
   ]
  },
  {
   "cell_type": "code",
   "execution_count": null,
   "id": "b47af362-6d78-445a-81ee-204801d8ed5b",
   "metadata": {},
   "outputs": [],
   "source": []
  }
 ],
 "metadata": {
  "kernelspec": {
   "display_name": "Python 3 (ipykernel)",
   "language": "python",
   "name": "python3"
  },
  "language_info": {
   "codemirror_mode": {
    "name": "ipython",
    "version": 3
   },
   "file_extension": ".py",
   "mimetype": "text/x-python",
   "name": "python",
   "nbconvert_exporter": "python",
   "pygments_lexer": "ipython3",
   "version": "3.11.7"
  }
 },
 "nbformat": 4,
 "nbformat_minor": 5
}
