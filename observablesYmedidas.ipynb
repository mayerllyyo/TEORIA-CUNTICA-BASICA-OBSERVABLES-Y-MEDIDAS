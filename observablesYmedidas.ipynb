{
 "cells": [
  {
   "cell_type": "markdown",
   "id": "d5faf8cd-0059-4cf3-b703-7cb55e91b664",
   "metadata": {},
   "source": [
    "# TEORIA CUANTICA BASICA OBSERVABLES Y MEDIDAS\n",
    "## A) PRIMER SISTEMA CUÁNTICO DESCRITO EN LA SECCIÓN 4.1."
   ]
  },
  {
   "cell_type": "markdown",
   "id": "ab51e183-c20c-4abc-88ad-fc949aaf6868",
   "metadata": {},
   "source": [
    "### El sistema consiste en una partícula confinada a un conjunto discreto de posiciones en una línea. El simulador debe permitir especificar el número de posiciones y un vector ket de estado asignando las amplitudes.\n",
    "\n",
    "#### 1. El sistema debe calcular la probabilidad de encontrarlo en una posición en particular."
   ]
  },
  {
   "cell_type": "code",
   "execution_count": 36,
   "id": "d1310395-04cd-4b88-bcd3-06d3d28c8fee",
   "metadata": {},
   "outputs": [
    {
     "name": "stdout",
     "output_type": "stream",
     "text": [
      "La probabilidad de encontrar la partícula en la posición 2 es: 0.05263157894736841\n"
     ]
    }
   ],
   "source": [
    "import numpy as np\n",
    "\n",
    "# Definimos una función para calcular la probabilidad de encontrar una partícula en una posición específica.\n",
    "def probabilidad_pos(v, p):\n",
    "    # Calculamos la norma al cuadrado del vector v\n",
    "    norma = np.linalg.norm(v) ** 2\n",
    "    # Verificamos si la posición especificada está dentro del rango\n",
    "    if p < 0 or p >= len(v):\n",
    "        raise ValueError(\"La posición especificada está fuera del rango.\")\n",
    "    # Calculamos la probabilidad utilizando la amplitud al cuadrado del elemento en la posición p\n",
    "    c = (abs(v[p]))**2\n",
    "    return c/norma\n",
    "\n",
    "# Ejemplo de cálculo de probabilidad de encontrar una partícula en una posición específica\n",
    "vector = [-3-1j, -2j, 1j, 2]\n",
    "posicion = 2\n",
    "# Llamamos a la función probabilidad_pos para obtener la probabilidad\n",
    "probabilidad = probabilidad_pos(vector, posicion)\n",
    "# Imprimimos el resultado de la probabilidad\n",
    "print(f\"La probabilidad de encontrar la partícula en la posición {posicion} es: {probabilidad}\")\n"
   ]
  },
  {
   "cell_type": "markdown",
   "id": "bac703c6-bc53-4941-8d91-2001c259a8d2",
   "metadata": {},
   "source": [
    "#### 2. El sistema si se le da otro vector Ket debe buscar la probabilidad de transitar del primer vector al segundo."
   ]
  },
  {
   "cell_type": "code",
   "execution_count": 27,
   "id": "e98f05c2-1604-446c-b9dc-97e906be5c0c",
   "metadata": {},
   "outputs": [
    {
     "name": "stdout",
     "output_type": "stream",
     "text": [
      "Resultado de la función probabilidad_transitar: -1.0000000000000002j\n"
     ]
    }
   ],
   "source": [
    "# Definimos una función para calcular la probabilidad de transición entre dos estados\n",
    "def probabilidad_transitar(v, k):\n",
    "    # Calculamos las normas de los vectores v y k\n",
    "    nv = np.linalg.norm(v)\n",
    "    nk = np.linalg.norm(k)\n",
    "    \n",
    "    for i in range(len(v)):\n",
    "    # Normalizamos los vectores dividiendo cada componente por su respectiva norma\n",
    "        v[i] = v[i] / nv\n",
    "        k[i] = k[i] / nk\n",
    "\n",
    "    prod_in = 0\n",
    "    for i in range(len(v)):\n",
    "        # Calculamos el producto interior \n",
    "        prod_in+= np.conj(k[i])*v[i]\n",
    "    \n",
    "    # Calculamos la probabilidad de transición\n",
    "    prod_v = nv * nk\n",
    "    prob = prod_in / prod_v\n",
    "    return prob\n",
    "# Ejemplo de cálculo de probabilidad de transición entre dos estados\n",
    "prob_trans = probabilidad_transitar([np.sqrt(2)/2, 1j*np.sqrt(2)/2],[1j*np.sqrt(2)/2, -np.sqrt(2)/2])\n",
    "print(\"Resultado de la función probabilidad_transitar:\", prob_trans)\n"
   ]
  },
  {
   "cell_type": "markdown",
   "id": "6ada7563-a211-451f-bb58-14e3a2746dff",
   "metadata": {},
   "source": [
    "## B) RETOS DE PROGRAMACIÓN DEL CAPÍTULO 4.\n",
    "#### 1. Amplitud de transición. El sistema puede recibir dos vectores y calcular la probabilidad de transitar de el uno al otro después de hacer la observación"
   ]
  },
  {
   "cell_type": "code",
   "execution_count": 6,
   "id": "a235256e-0cd2-4842-9977-7f8738f97478",
   "metadata": {},
   "outputs": [
    {
     "name": "stdout",
     "output_type": "stream",
     "text": [
      "La probabilidad de transitar de v1 a v2 es: 0.8310850439882701\n"
     ]
    }
   ],
   "source": [
    "import numpy as np\n",
    "\n",
    "# Definimos la función transicion que toma dos vectores v1 y v2 como entrada\n",
    "def ampl_transicion(v1, v2):  \n",
    "    norma_v1 = np.linalg.norm(v1)  # Calcula la norma del vector v1\n",
    "    norma_v2 = np.linalg.norm(v2)  # Calcula la norma del vector v2\n",
    "\n",
    "    # Normaliza el vector v1 dividiendo cada componente por su norma\n",
    "    for i in range(len(v1)):\n",
    "        v1[i] = v1[i] / norma_v1\n",
    "\n",
    "    # Normaliza el vector v2 dividiendo cada componente por su norma\n",
    "    for i in range(len(v2)):\n",
    "        v2[i] = v2[i] / norma_v2\n",
    "\n",
    "    # Calcula el producto interno de los vectores normalizados\n",
    "    interno = 0  # Inicializa el producto interno\n",
    "    # Calculamos el producto interno \n",
    "    for i in range(len(v1)):\n",
    "        interno += np.conj(v1[i]) * v2[i]\n",
    "\n",
    "    # Devuelve el cuadrado del valor absoluto del producto interno como la probabilidad de transición\n",
    "    return np.abs(interno) ** 2\n",
    "\n",
    "# Ejemplo de uso de la función transicion\n",
    "v1 = np.array([1+2j, -3j, 4+1j])  # Definición del primer vector complejo v1\n",
    "v2 = np.array([5j, 2-1j, 3+4j])    # Definición del segundo vector complejo v2\n",
    "\n",
    "# Llama a la función transicion con los vectores v1 y v2, y almacena el resultado en 'probabilidad'\n",
    "probabilidad = ampl_transicion(v1, v2)\n",
    "\n",
    "# Imprime la probabilidad de transitar de v1 a v2\n",
    "print(\"La probabilidad de transitar de v1 a v2 es:\", probabilidad)\n"
   ]
  },
  {
   "cell_type": "markdown",
   "id": "aaa331fc-978d-4377-be6a-558a2cead2e3",
   "metadata": {
    "jp-MarkdownHeadingCollapsed": true
   },
   "source": [
    "#### 2. Ahora con una matriz que describa un observable y un vector ket, el sistema revisa que la matriz sea hermitiana, y si lo es, calcula la media y la varianza del observable en el estado dado."
   ]
  },
  {
   "cell_type": "code",
   "execution_count": 20,
   "id": "d0284ea6-b589-4966-a3a0-080fcdc81867",
   "metadata": {},
   "outputs": [
    {
     "name": "stdout",
     "output_type": "stream",
     "text": [
      "La media del observable es: 36\n",
      "La varianza del observable es: 42849\n"
     ]
    }
   ],
   "source": [
    "def hermitiana_media_varianza(m,v):\n",
    "    # Función para calcular el conjugado de un vector complejo\n",
    "    def b(v):\n",
    "        for i in range(len(v)):\n",
    "            v[i] = v[i].conjugate()\n",
    "        return v\n",
    "        \n",
    "    # Función para calcular la acción de una matriz sobre un vector\n",
    "    def accion(v, m):\n",
    "        ans = [0] * len(m)\n",
    "        for i in range(len(m)):\n",
    "            aux = 0\n",
    "            for j in range(len(m[i])):\n",
    "                aux += m[i][j] * v[j]\n",
    "            ans[i] = aux\n",
    "        return ans\n",
    "        \n",
    "    # Función para calcular el producto interno entre dos vectores\n",
    "    def prod_inter(v1, v2):\n",
    "        ans = 0\n",
    "        for i in range(len(v1)):\n",
    "            v1[i] = v1[i].conjugate()\n",
    "            ans += v1[i] * v2[i]\n",
    "        return ans\n",
    "    # Función para calcular el producto de dos matrices        \n",
    "    def prod_mat(m1, m2):\n",
    "            ans = [[0 for j in range(len(m2[0]))] for i in range(len(m1))]\n",
    "            for i in range(len(m1)):\n",
    "                for j in range(len(m2[0])):\n",
    "                    aux = 0\n",
    "                    for k in range(len(m2)):\n",
    "                        aux = m1[i][k] * m2[k][j]\n",
    "                    ans[i][j] = aux\n",
    "            return ans\n",
    "    b_v=b(v)\n",
    "    ax_v=accion(v,m)\n",
    "    media=prod_inter(ax_v,b_v)\n",
    "    matri=[[media * -1 for i in range(len(m[0]))] for j in range(len(m))]\n",
    "    for i in range(len(m)):\n",
    "        for j in range(len(m)):\n",
    "            matri[i][j] += m[i][j]\n",
    "    matriz=prod_mat(matri,matri)\n",
    "    var=prod_inter(accion(v,matriz),b_v)\n",
    "    return media,var\n",
    "# Ejemplo de uso de la funcion hermitiana_media_varianza\n",
    "v = np.array([1, 2, 3])  \n",
    "m = np.array([[1, 0, 0], [0, 2, 0], [0, 0, 3]])  \n",
    "# Calcular la media y la varianza\n",
    "media, varianza = hermitiana_media_varianza(m, v)\n",
    "# Imprimir resultados\n",
    "print(\"La media del observable es:\", media)\n",
    "print(\"La varianza del observable es:\", varianza)"
   ]
  },
  {
   "cell_type": "markdown",
   "id": "aa736397-6852-4612-a002-a18056bb2736",
   "metadata": {},
   "source": [
    "#### 3. El sistema calcula los valores propios del observable y la probabilidad de que el sistema transite a alguno de los vectores propios después de la observación."
   ]
  },
  {
   "cell_type": "code",
   "execution_count": 25,
   "id": "dbf9bd24-9f52-465c-9b94-ebb71b2ca028",
   "metadata": {},
   "outputs": [
    {
     "name": "stdout",
     "output_type": "stream",
     "text": [
      "Valores propios: [-1.74230145  1.13754477 11.60475668]\n",
      "Vectores propios:\n",
      "[[ 0.63417346+0.j          0.70732864+0.j          0.31226627+0.j        ]\n",
      " [-0.01988031+0.56376299j -0.24740489-0.50945572j  0.60078255+0.00905989j]\n",
      " [-0.37852373-0.36921522j  0.02754781+0.42210544j  0.7063342 -0.20630078j]]\n",
      "Probabilidad de transitar al vector propio 1 : 0.020946255626271195\n",
      "Probabilidad de transitar al vector propio 2 : 0.010594996349825385\n",
      "Probabilidad de transitar al vector propio 3 : 0.9684587480239031\n"
     ]
    }
   ],
   "source": [
    "# Función para calcular los valores propios y vectores propios\n",
    "def calcular_valores_vectores_propios(m):\n",
    "    # Calcular los valores propios y vectores propios\n",
    "    valores_propios, vectores_propios = np.linalg.eigh(m)\n",
    "    return valores_propios, vectores_propios\n",
    "\n",
    "# Función para calcular la probabilidad de transitar a un vector propio específico\n",
    "def calcular_probabilidad_transicion(v1, v2):\n",
    "    # Normalizar los vectores\n",
    "    v1_norm = v1 / np.linalg.norm(v1)\n",
    "    v2_norm = v2 / np.linalg.norm(v2)\n",
    "    # Calcular el producto interno de los vectores normalizados\n",
    "    producto_interno = np.abs(np.vdot(v1_norm, v2_norm))\n",
    "    # Calcular la probabilidad de transición\n",
    "    probabilidad_transicion = np.abs(producto_interno) ** 2\n",
    "    return probabilidad_transicion\n",
    "\n",
    "# Ejemplo de uso\n",
    "# Matriz hermitiana de ejemplo\n",
    "m = np.array([[1, 2+1j, 3], [2-1j, 4, 5+2j], [3, 5-2j, 6]])\n",
    "\n",
    "# Calcular los valores propios y vectores propios\n",
    "valores_propios, vectores_propios = calcular_valores_vectores_propios(m)\n",
    "\n",
    "# Imprimir los valores propios y vectores propios\n",
    "print(\"Valores propios:\", valores_propios)\n",
    "print(\"Vectores propios:\")\n",
    "print(vectores_propios)\n",
    "\n",
    "# Vector de ejemplo\n",
    "v = np.array([1, 2, 3])\n",
    "\n",
    "# Calcular la probabilidad de transitar a cada vector propio después de la observación\n",
    "probabilidades_transicion = []\n",
    "for vector_propio in vectores_propios.T:  # Iterar sobre los vectores propios transpuestos\n",
    "    probabilidad = calcular_probabilidad_transicion(v, vector_propio)\n",
    "    probabilidades_transicion.append(probabilidad)\n",
    "\n",
    "# Imprimir las probabilidades de transición\n",
    "for i, probabilidad in enumerate(probabilidades_transicion):\n",
    "    print(\"Probabilidad de transitar al vector propio\", i+1, \":\", probabilidad)\n"
   ]
  },
  {
   "cell_type": "markdown",
   "id": "15808928-6f5f-4fee-9e49-f215484dcf23",
   "metadata": {},
   "source": [
    "#### 4. Se considera la dinámica del sistema. Ahora con una serie de matrices Un el sistema calcula el estado final a partir de un estado inicial."
   ]
  },
  {
   "cell_type": "code",
   "execution_count": 24,
   "id": "705980c8-a290-4ab2-8974-38248615f7e0",
   "metadata": {},
   "outputs": [
    {
     "name": "stdout",
     "output_type": "stream",
     "text": [
      "Estado final del sistema:\n",
      "[ 1 -1]\n"
     ]
    }
   ],
   "source": [
    "import numpy as np\n",
    "\n",
    "# Función para calcular el estado final del sistema\n",
    "def estado_final(U_n_series, estado_inicial):\n",
    "    estado_actual = estado_inicial\n",
    "    for U_n in U_n_series:\n",
    "        estado_actual = np.dot(U_n, estado_actual)\n",
    "    return estado_actual\n",
    "\n",
    "# Ejemplo de uso\n",
    "# Definir las matrices de evolución temporal U_n\n",
    "U_1 = np.array([[1, 0], [0, 1]])  # Por ejemplo, una matriz de identidad\n",
    "U_2 = np.array([[0, 1], [1, 0]])  # Por ejemplo, una matriz de intercambio\n",
    "U_3 = np.array([[1, 1], [1, -1]]) # Por ejemplo, una matriz de Hadamard\n",
    "\n",
    "# Serie de matrices de evolución temporal\n",
    "U_n_series = [U_1, U_2, U_3]\n",
    "\n",
    "# Estado inicial del sistema\n",
    "estado_inicial = np.array([1, 0])  # Por ejemplo, estado inicial |0⟩\n",
    "\n",
    "# Calcular el estado final del sistema\n",
    "estado_final_sistema = estado_final(U_n_series, estado_inicial)\n",
    "\n",
    "# Imprimir el estado final del sistema\n",
    "print(\"Estado final del sistema:\")\n",
    "print(estado_final_sistema)\n"
   ]
  },
  {
   "cell_type": "markdown",
   "id": "47b999be-15f6-4b0b-98d3-7c1c55d67bd7",
   "metadata": {},
   "source": [
    "## C) REALICE LOS SIGUIENTES PROBLEMAS E INCLUYALOS COMO EJEMPLOS\n",
    "#### Modele en su librería los problemas"
   ]
  },
  {
   "cell_type": "markdown",
   "id": "55d1d63f-fe93-4c39-bdea-a3f2863e2011",
   "metadata": {},
   "source": [
    "#### 4.3.1\n"
   ]
  },
  {
   "cell_type": "markdown",
   "id": "96098e1a-e01c-41dc-b695-ff42162fa1c5",
   "metadata": {},
   "source": [
    "Find all the possible states the system described in Exercise 4.2.2 can transition into after a measurement has been carried out."
   ]
  },
  {
   "cell_type": "code",
   "execution_count": 8,
   "id": "8f06007e-f0b1-4684-94d0-8b6c03737739",
   "metadata": {},
   "outputs": [
    {
     "name": "stdout",
     "output_type": "stream",
     "text": [
      "Probabilidad: 50.0\n",
      "Posibles probabilidades: [[(1, 0), (1, 0)], [(-1, 0), (1, 0)]]\n"
     ]
    }
   ],
   "source": [
    "def norma(numero):\n",
    "    return sum(x**2 for x in numero)\n",
    "\n",
    "def norma_vector(vector):\n",
    "    return sum(norma(numero) for numero in vector)\n",
    "\n",
    "def probabilidad(pos, vector):\n",
    "    return (norma(vector[pos]) / norma_vector(vector)) * 100 if norma_vector(vector) != 0 else 0\n",
    "\n",
    "def posiblesProbabilidad(posicion, index):\n",
    "    estados = [[(0, 1), (1, 0)], [(0, -1), (1, 0)], [(1, 0), (1, 0)], [(-1, 0), (1, 0)], [(0, 0), (1, 0)], [(1, 0), (0, 0)]]\n",
    "    return [estado for i in range((index * 2) - 2, index * 2) if (estado := estados[i]) and probabilidad(posicion, estado) != 0]\n",
    "vector_estados = [[(1, 0), (0, -1)], [(0, -1j), (1j, 0)], [(0, 1), (1, 0)]]\n",
    "\n",
    "print(\"Probabilidad:\", probabilidad(1, vector_estados[0]))\n",
    "print(\"Posibles probabilidades:\", posiblesProbabilidad(1, 2))"
   ]
  },
  {
   "cell_type": "markdown",
   "id": "b2a9dcd4-b107-40ca-9478-2c8b53d793e4",
   "metadata": {},
   "source": [
    "#### 4.3.2"
   ]
  },
  {
   "cell_type": "code",
   "execution_count": 7,
   "id": "14c7de53-e8de-4c9a-9489-aba0539e2a13",
   "metadata": {},
   "outputs": [
    {
     "name": "stdout",
     "output_type": "stream",
     "text": [
      "-1.0\n"
     ]
    }
   ],
   "source": [
    "import numpy as np\n",
    "def norma(numero):\n",
    "    return sum(x**2 for x in numero)\n",
    "\n",
    "def norma_vector(vector):\n",
    "    return sum(norma(numero) for numero in vector)\n",
    "def probabilidad(pos, vector):\n",
    "    return (norma(vector[pos]) / norma_vector(vector)) * 100 if norma_vector(vector) != 0 else 0\n",
    "def posiblesProbabilidad(posicion, index):\n",
    "    estados = [[(0, 1), (1, 0)], [(0, -1), (1, 0)], [(1, 0), (1, 0)], [(-1, 0), (1, 0)], [(0, 0), (1, 0)], [(1, 0), (0, 0)]]\n",
    "    return [estado for i in range((index * 2) - 2, index * 2) if (estado := estados[i]) and probabilidad(posicion, estado) != 0]\n",
    "    vector_estados = [[(1, 0), (0, -1)], [(0, -1j), (1j, 0)], [(0, 1), (1, 0)]]\n",
    "def probabilidadValoresPropios(posicion, index):\n",
    "    matrices = [\n",
    "        [[(1,0),(0,0)],[(0,0),(-1,0)]],\n",
    "        [[(0,0),(0,-1)],[(0,1),(0,0)]],\n",
    "        [[(0,0),(1,0)],[(1,0),(0,0)]]\n",
    "    ]\n",
    "    valoresPropios = []\n",
    "    aux = posiblesProbabilidad(posicion, index)\n",
    "    resultado = 0\n",
    "    for matriz in matrices:\n",
    "        valores, _ = np.linalg.eig(matriz)\n",
    "        valoresPropios.extend(valores)\n",
    "    for estado in aux:\n",
    "        prob = probabilidad(posicion, estado) / 100 \n",
    "        for i in range(2):\n",
    "            resultado += prob * valoresPropios[index][i]\n",
    "    return resultado\n",
    "    \n",
    "posicion_ejemplo = 1\n",
    "index_ejemplo = 2\n",
    "resultado_ejemplo = probabilidadValoresPropios(posicion_ejemplo, index_ejemplo)\n",
    "print(resultado_ejemplo)"
   ]
  },
  {
   "cell_type": "markdown",
   "id": "10d0844c-f08d-44fd-b75a-dd10e027384d",
   "metadata": {},
   "source": [
    "#### 4.4.1\n",
    "Verify that\n",
    "\n",
    "$$ U_{1} = \\begin{bmatrix} 0 & 1 \\\\ 1 & 0 \\end{bmatrix}  and \\quad U_{2} = \\begin{bmatrix} \\frac{\\sqrt{2}}{2}\\ & \\frac{\\sqrt{2}}{2}\\ \\\\ \\frac{\\sqrt{2}}{2}\\ & -\\frac{\\sqrt{2}}{2}\\ \\end{bmatrix} $$\n",
    "\n",
    "are unitary matrices. Multiply them and verify that their product is also unitary."
   ]
  },
  {
   "cell_type": "code",
   "execution_count": 41,
   "id": "9040796a-bdf5-4c33-802e-96a9f2d760e6",
   "metadata": {},
   "outputs": [
    {
     "name": "stdout",
     "output_type": "stream",
     "text": [
      "Las matrices U1 y U2 son unitarias, el producto entre estas dos tambien es unitario\n"
     ]
    }
   ],
   "source": [
    "import math\n",
    "def exercise4_1_1 (U1, U2):\n",
    "    if (U1 == np.transpose(np.conjugate(U1))).all():\n",
    "        if (U2 == np.transpose(np.conjugate(U2))).all():\n",
    "            result1 = U1 * U2\n",
    "            result2 = U2 * U1\n",
    "            if (result1 == np.transpose(np.conjugate(result1))).all():\n",
    "                if (result2 == np.transpose(np.conjugate(result2))).all():\n",
    "                    return \"Las matrices U1 y U2 son unitarias, el producto entre estas dos tambien es unitario\"\n",
    "                else:\n",
    "                    return \"El producto de la matriz U2 * U1 no es unitario\"\n",
    "            else:\n",
    "                return \"El producto de la matriz U1 * U2 no es unitario\"\n",
    "        else:\n",
    "            return \"La matriz U2 no es unitaria\"\n",
    "    else:\n",
    "        return \"La matriz U1 no es unitaria\"\n",
    "U1 = np.array ([(0,1), (1,0)])\n",
    "U2 = np.array ([(math.sqrt(2)/2,math.sqrt(2)/2),(math.sqrt(2)/2,-math.sqrt(2)/2)])\n",
    "print (exercise4_1_1 (U1, U2))"
   ]
  },
  {
   "cell_type": "markdown",
   "id": "da03d9d6-d60a-4b9a-8d1b-2f679c97e484",
   "metadata": {},
   "source": [
    "#### 4.4.1\n",
    "Go back to Example 3.3.2 (quantum billiard ball), keep the same \n",
    "initial state vector[1, 0, 0, 0]<sup>T</sup>"
   ]
  },
  {
   "cell_type": "markdown",
   "id": "2d06cd1a-9a80-4211-8622-4343ddf883b0",
   "metadata": {},
   "source": [
    "but change the unitary map to\n",
    "\n",
    "\n",
    "$$\n",
    "\\begin{bmatrix}\n",
    "0 & \\frac{1}{\\sqrt{2}} & \\frac{1}{\\sqrt{2}} & 0 \\\\\n",
    "\\frac{1}{\\sqrt{2}} & 0 & 0 & \\frac{1}{\\sqrt{2}} \\\\\n",
    "\\frac{1}{\\sqrt{2}} & 0 & 0 & \\frac{1}{\\sqrt{2}} \\\\\n",
    "0 & \\frac{1}{\\sqrt{2}} & \\frac{1}{\\sqrt{2}} & 0\n",
    "\\end{bmatrix}\n",
    "$$\n",
    "\n",
    "Determine the state of the system after three time steps. What is the chance of \n",
    "the quantum ball to be found at point 3?"
   ]
  },
  {
   "cell_type": "code",
   "execution_count": 45,
   "id": "e2b60282-2f3b-448f-aa5e-3fc43563112a",
   "metadata": {},
   "outputs": [
    {
     "name": "stdout",
     "output_type": "stream",
     "text": [
      "El chance de encontrar la pelota cuántica en el punto 3 es: 0j\n"
     ]
    }
   ],
   "source": [
    "def exercise4_2_2(U3, inicial, clicksU):\n",
    "    cont = 0\n",
    "    while cont < clicksU:\n",
    "        result = np.dot(U3, inicial)\n",
    "        inicial = result\n",
    "        cont += 1\n",
    "    return inicial[3]\n",
    "U3 =np.array ([(complex(0,0),complex(1/math.sqrt(2),0),complex(1/math.sqrt(2),0),complex(0,0)), (complex(0,1/math.sqrt(2)),complex(0,0),complex(0,0),complex(1/math.sqrt(2),0)),  (complex(1/math.sqrt(2),0),complex(0,0),complex(0,0),complex(0, 1/math.sqrt(2))), (complex(0,0),complex(1/math.sqrt(2),0),complex(-1/math.sqrt(2),0),complex(0,0))])\n",
    "inicial = np.array([1,0,0,0])\n",
    "clicksU = 3\n",
    "resultado = exercise4_2_2(U3, inicial, clicksU)\n",
    "print (f\"El chance de encontrar la pelota cuántica en el punto {clicksU} es: {resultado}\")"
   ]
  },
  {
   "cell_type": "markdown",
   "id": "f6402e68-1c2a-478a-8728-27378e6dfbd1",
   "metadata": {},
   "source": [
    "#### Desarrolle e incluya en el Github una discusión de los ejercicios 4.5.2 y 4.5.3"
   ]
  },
  {
   "cell_type": "markdown",
   "id": "12eddd7b-9dc5-47f2-bd8c-cbd86399bef1",
   "metadata": {},
   "source": [
    "Postulate 4.5.1 Assume we have two independent quantum systems Q and Q , represented respectively by the vector spaces V and V . The quantum system obtained by merging Qand Q will have the tensor product V ⊗ V as a state space.\r\n",
    "\r\n",
    "# Analisis:\r\n",
    "Sabiendo que el producto tensor es asociativo , se puede inferir que cada uno de los vectores V representara un sistema largo de varios proodctos tensores entre si , por lo cual siguiendo el postulado , se toma el conjunto de complejos y se busca su probabilidad en un punto especifico dado:\r\n",
    "\r\n",
    "siendo m = n =4 con complejos Co,o=...=C3.3=1+i , buscamos la particula en el punto ```pythonX1:\r\n",
    "\t\r\n",
    "\tn= matriz([ [[1,1]],[[1,1]],[[1,1]],[[1,1]],[[1,1]],[[1,1]],[[1,1]],[[1,1]],[[1,1]],[[1,1]],[[1,1]],[[1,1]],[[1,1]],[[1,1]],[[1,1]],[[1,1]] ])\r\n",
    "\t###Hallamos modulo cuadrado a cada uno de los complejos del vector\r\n",
    "\tfor i in range(len(n.c)):\r\n",
    "\t\tn.c[i][0]=n.c[i][0].modulo_cuadrado()\r\n",
    "  \r\n",
    "Luego verificamos cual es la probabilidad de enconttrar una particula de posicion x1 y otra particula en una po    ```pythonsicion y1 :\r\n",
    "\r\n",
    "\t>>> x_position= n.c[1][0]\r\n",
    "\t# con la posicion x1 y y1 procedemos a calcular la probabilidad dividiendolo bajo la suma de  todos los complejos tenidos del vector anteriormente.\r\n",
    "\t>>> cont=0\r\n",
    "\t>>> for i in range(len(n.c)):\r\n",
    "\t\tcont+=n.c[i][0]\r\n",
    "\t>>> print(x_position[0]/cont)\r\n",
    "\t0.0625\r\n",
    "\r\n",
    "En terminos probabillisticos , esta cantidad es suficientemente grande con un valor del 62.5% de que esten ambas particulas en estas dos posiciones."
   ]
  },
  {
   "cell_type": "code",
   "execution_count": null,
   "id": "1de49d30-ffb8-470c-9393-3638da192261",
   "metadata": {},
   "outputs": [],
   "source": []
  }
 ],
 "metadata": {
  "kernelspec": {
   "display_name": "Python 3 (ipykernel)",
   "language": "python",
   "name": "python3"
  },
  "language_info": {
   "codemirror_mode": {
    "name": "ipython",
    "version": 3
   },
   "file_extension": ".py",
   "mimetype": "text/x-python",
   "name": "python",
   "nbconvert_exporter": "python",
   "pygments_lexer": "ipython3",
   "version": "3.11.5"
  }
 },
 "nbformat": 4,
 "nbformat_minor": 5
}
